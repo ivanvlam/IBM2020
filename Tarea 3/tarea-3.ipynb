{
 "cells": [
  {
   "attachments": {},
   "cell_type": "markdown",
   "metadata": {},
   "source": [
    "# Tarea 3 - Introducción a la Biomecánica\n",
    "### Pregunta 3"
   ]
  },
  {
   "cell_type": "code",
   "execution_count": 1,
   "metadata": {},
   "outputs": [],
   "source": [
    "import numpy as np\n",
    "from scipy.optimize import newton\n",
    "import matplotlib.pyplot as plt"
   ]
  },
  {
   "cell_type": "code",
   "execution_count": 2,
   "metadata": {},
   "outputs": [],
   "source": [
    "# Definición de parámetros\n",
    "\n",
    "global mu, lam2, phi, c, cd, beta, d\n",
    "\n",
    "mu = 280.8\n",
    "lam2 = 421.2\n",
    "phi = 0.99\n",
    "\n",
    "c = 286.61\n",
    "cd = 0.008238\n",
    "beta = 1.1738\n",
    "d = 6\n",
    "\n",
    "lam_array = np.linspace(0.5, 2, 100)"
   ]
  },
  {
   "attachments": {},
   "cell_type": "markdown",
   "metadata": {},
   "source": [
    "### Caso CM1"
   ]
  },
  {
   "cell_type": "code",
   "execution_count": 3,
   "metadata": {},
   "outputs": [],
   "source": [
    "# Función sigma_11 \n",
    "\n",
    "def s11cm1(lam, lam_t):\n",
    "    return (2 / (lam * lam_t ** 2)) * (  \n",
    "            (-c * (lam ** 2 * lam_t ** 4) ** (-beta)) +\n",
    "            lam ** 2 * (c + cd * d * (2 * lam_t ** 2 + lam ** 2 - 3) ** (d - 1))\n",
    "    )"
   ]
  },
  {
   "cell_type": "code",
   "execution_count": 4,
   "metadata": {},
   "outputs": [],
   "source": [
    "# Función sigma_22\n",
    "\n",
    "def s22cm1(lam, lam_t):\n",
    "    return (2 / (lam * lam_t ** 2)) * (  \n",
    "            (-c * (lam ** 2 * lam_t ** 4) ** (-beta)) +\n",
    "            lam_t ** 2 * (c + cd * d * (2 * lam_t ** 2 + lam ** 2 - 3) ** (d - 1))\n",
    "    )"
   ]
  },
  {
   "cell_type": "code",
   "execution_count": 5,
   "metadata": {},
   "outputs": [],
   "source": [
    "# Derivada función sigma_22\n",
    "\n",
    "def ds22cm1(lam, lam_t):\n",
    "    return (4 / (lam * lam_t ** 3)) * (  \n",
    "            (c * (1 + 2 * beta) * (lam ** 2 * lam_t ** 4) ** (-beta)) +\n",
    "            lam_t ** 4 * 2 * cd * d * (d - 1) * (2 * lam_t ** 2 + lam ** 2 - 3) ** (d - 2)\n",
    "    )"
   ]
  },
  {
   "cell_type": "code",
   "execution_count": 6,
   "metadata": {},
   "outputs": [],
   "source": [
    "g_cm1_array = []\n",
    "for lam in lam_array:\n",
    "    def g_cm1(lam_t):\n",
    "        return s22cm1(lam, lam_t)\n",
    "    g_cm1_array.append(g_cm1)"
   ]
  },
  {
   "cell_type": "code",
   "execution_count": 7,
   "metadata": {},
   "outputs": [],
   "source": [
    "dg_cm1_array = []\n",
    "for lam in lam_array:\n",
    "    def dg_cm1(lam_t):\n",
    "        return ds22cm1(lam, lam_t)\n",
    "    dg_cm1_array.append(dg_cm1)"
   ]
  },
  {
   "cell_type": "code",
   "execution_count": 8,
   "metadata": {},
   "outputs": [],
   "source": [
    "cm1_lam_t_array = []\n",
    "for i, lam in enumerate(lam_array):\n",
    "    cm1_lam_t = newton(g_cm1_array[i], 0.5, maxiter = 50)\n",
    "    cm1_lam_t_array.append(cm1_lam_t)"
   ]
  },
  {
   "cell_type": "code",
   "execution_count": 9,
   "metadata": {},
   "outputs": [],
   "source": [
    "cm1_lam_t_array = []\n",
    "for i, lam in enumerate(lam_array):\n",
    "    cm1_lam_t = newton(g_cm1_array[i], fprime=dg_cm1_array[i], x0=0.5, maxiter=50)\n",
    "    cm1_lam_t_array.append(cm1_lam_t)"
   ]
  },
  {
   "cell_type": "code",
   "execution_count": 10,
   "metadata": {},
   "outputs": [
    {
     "data": {
      "image/png": "[encoded data removed]",
      "text/plain": [
       "<Figure size 576x432 with 1 Axes>"
      ]
     },
     "metadata": {
      "needs_background": "light"
     },
     "output_type": "display_data"
    }
   ],
   "source": [
    "# Plot método de Newton\n",
    "\n",
    "plt.figure(figsize=(8, 6))\n",
    "plt.ylabel(r'$\\lambda_T$')\n",
    "plt.xlabel(r'$\\lambda$')\n",
    "plt.plot(lam_array, cm1_lam_t_array, color = '#F59A23', linewidth = 3)\n",
    "plt.show()"
   ]
  },
  {
   "cell_type": "code",
   "execution_count": 11,
   "metadata": {},
   "outputs": [],
   "source": [
    "cm1_array = []\n",
    "\n",
    "for i in range(len(lam_array)):\n",
    "    cm1 = s11cm1(lam_array[i], cm1_lam_t_array[i])\n",
    "    cm1_array.append(cm1)"
   ]
  },
  {
   "cell_type": "code",
   "execution_count": 12,
   "metadata": {},
   "outputs": [
    {
     "data": {
      "image/png": "[encoded data removed]",
      "text/plain": [
       "<Figure size 576x432 with 1 Axes>"
      ]
     },
     "metadata": {
      "needs_background": "light"
     },
     "output_type": "display_data"
    }
   ],
   "source": [
    "# Plot tensión vs. deformación\n",
    "\n",
    "plt.figure(figsize=(8, 6))\n",
    "plt.ylabel(r'$\\sigma$')\n",
    "plt.xlabel(r'$\\lambda$')\n",
    "plt.plot(lam_array, cm1_array, color = '#F59A23', linewidth = 3)\n",
    "plt.show()"
   ]
  },
  {
   "attachments": {},
   "cell_type": "markdown",
   "metadata": {},
   "source": [
    "### Caso CM2"
   ]
  },
  {
   "cell_type": "code",
   "execution_count": 13,
   "metadata": {},
   "outputs": [],
   "source": [
    "# Función sigma_11\n",
    "\n",
    "def s11cm2(lam, lam_t):\n",
    "    return (1 / 2) * (\n",
    "        lam * lam2 * lam_t ** 2 + \n",
    "        (2 * mu) / (lam_t ** 2) +\n",
    "        (lam2 + 2 * mu) / (phi + lam * lam_t ** 2 - 1)\n",
    "    )"
   ]
  },
  {
   "cell_type": "code",
   "execution_count": 14,
   "metadata": {},
   "outputs": [],
   "source": [
    "# Función sigma_22\n",
    "\n",
    "def s22cm2(lam, lam_t):\n",
    "    return (1 / 2) * lam * lam2 * lam_t ** 2 + \\\n",
    "        (mu) / (lam * lam_t) + \\\n",
    "        (lam2 / 2 + mu) / (phi + lam * lam_t ** 2 - 1)"
   ]
  },
  {
   "cell_type": "code",
   "execution_count": 15,
   "metadata": {},
   "outputs": [],
   "source": [
    "# Deridada función sigma_22\n",
    "\n",
    "def ds22cm2(lam, lam_t):\n",
    "    return (1 / ((lam * lam_t ** 2) * (phi + lam * lam_t ** 2 - 1))) * (\n",
    "        lam ** 4 * lam2 * lam_t ** 7 + \\\n",
    "        2 * lam ** 3 * lam2 * lam_t ** 5 * (phi - 1) - \\\n",
    "        2 * lam * lam_t ** 2 * mu * (phi - 1) - mu * (phi - 1) ** 2 - \\\n",
    "        lam ** 2 * lam_t ** 3 * ((lam_t + 2) * mu - lam2 * (phi - 2) * phi)\n",
    "    )"
   ]
  },
  {
   "cell_type": "code",
   "execution_count": 16,
   "metadata": {},
   "outputs": [],
   "source": [
    "g_cm2_array = []\n",
    "for lam in lam_array:\n",
    "    def g_cm2(lam_t):\n",
    "        return s22cm2(lam, lam_t)\n",
    "    g_cm2_array.append(g_cm2)"
   ]
  },
  {
   "cell_type": "code",
   "execution_count": 17,
   "metadata": {},
   "outputs": [],
   "source": [
    "dg_cm2_array = []\n",
    "for lam in lam_array:\n",
    "    def dg_cm2(lam_t):\n",
    "        return ds22cm2(lam, lam_t)\n",
    "    dg_cm2_array.append(dg_cm2)"
   ]
  },
  {
   "cell_type": "code",
   "execution_count": 18,
   "metadata": {},
   "outputs": [],
   "source": [
    "cm2_lam_t_array = []\n",
    "for i, lam in enumerate(lam_array):\n",
    "    cm2_lam_t = newton(dg_cm2_array[i], 0.5, maxiter = 50)\n",
    "    cm2_lam_t_array.append(cm2_lam_t)"
   ]
  },
  {
   "cell_type": "code",
   "execution_count": 19,
   "metadata": {},
   "outputs": [
    {
     "data": {
      "image/png": "[encoded data removed]",
      "text/plain": [
       "<Figure size 576x432 with 1 Axes>"
      ]
     },
     "metadata": {
      "needs_background": "light"
     },
     "output_type": "display_data"
    }
   ],
   "source": [
    "# Plot método de Newton\n",
    "\n",
    "plt.figure(figsize=(8, 6))\n",
    "plt.ylabel(r'$\\lambda_T$')\n",
    "plt.xlabel(r'$\\lambda$')\n",
    "plt.plot(lam_array, cm2_lam_t_array, color = '#F59A23', linewidth = 3)\n",
    "plt.show()"
   ]
  },
  {
   "cell_type": "code",
   "execution_count": 20,
   "metadata": {},
   "outputs": [],
   "source": [
    "cm2_array = []\n",
    "\n",
    "for i in range(len(lam_array)):\n",
    "    cm2 = s11cm1(lam_array[i], cm2_lam_t_array[i])\n",
    "    cm2_array.append(cm2)"
   ]
  },
  {
   "cell_type": "code",
   "execution_count": 21,
   "metadata": {},
   "outputs": [
    {
     "data": {
      "image/png": "[encoded data removed]",
      "text/plain": [
       "<Figure size 576x432 with 1 Axes>"
      ]
     },
     "metadata": {
      "needs_background": "light"
     },
     "output_type": "display_data"
    }
   ],
   "source": [
    "# Plot tensión vs. deformación\n",
    "\n",
    "plt.figure(figsize=(8, 6))\n",
    "plt.ylabel(r'$\\sigma$')\n",
    "plt.xlabel(r'$\\lambda$')\n",
    "plt.plot(lam_array, cm2_array, color = '#F59A23', linewidth = 3)\n",
    "plt.show()"
   ]
  },
  {
   "attachments": {},
   "cell_type": "markdown",
   "metadata": {},
   "source": [
    "#### Hecho con :heart: por Iván Vergara Lam"
   ]
  }
 ],
 "metadata": {
  "kernelspec": {
   "display_name": "Python 3",
   "language": "python",
   "name": "python3"
  },
  "language_info": {
   "codemirror_mode": {
    "name": "ipython",
    "version": 3
   },
   "file_extension": ".py",
   "mimetype": "text/x-python",
   "name": "python",
   "nbconvert_exporter": "python",
   "pygments_lexer": "ipython3",
   "version": "3.8.10"
  },
  "orig_nbformat": 4
 },
 "nbformat": 4,
 "nbformat_minor": 2
}
