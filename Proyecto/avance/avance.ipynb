{
 "cells": [
  {
   "attachments": {},
   "cell_type": "markdown",
   "metadata": {
    "slideshow": {
     "slide_type": "slide"
    }
   },
   "source": [
    "#### <span style=\"font-family:Bebas Neue; font-size:1.5em;\">Proyecto final - IBM2020</span>\n",
    "# <span style=\"font-family:Bebas Neue; font-size:2em;\">Caracterización del flujo sanguíneo cerebral</span>\n",
    "\n",
    "#### <span style=\"font-family:Bebas Neue; font-size:1.5em; text-align: center;\">Iván Vergara Lam</span>"
   ]
  }
 ],
 "metadata": {
  "language_info": {
   "name": "python"
  },
  "orig_nbformat": 4
 },
 "nbformat": 4,
 "nbformat_minor": 2
}
