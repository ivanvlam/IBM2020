{
 "cells": [
  {
   "attachments": {},
   "cell_type": "markdown",
   "metadata": {
    "slideshow": {
     "slide_type": "slide"
    }
   },
   "source": [
    "#### Proyecto final - IBM2020\n",
    "# **Caracterización del flujo sanguíneo cerebral**\n",
    "\n",
    "#### Iván Vergara Lam"
   ]
  },
  {
   "attachments": {},
   "cell_type": "markdown",
   "metadata": {
    "slideshow": {
     "slide_type": "slide"
    }
   },
   "source": [
    "## **Estado del arte**"
   ]
  },
  {
   "attachments": {},
   "cell_type": "markdown",
   "metadata": {
    "slideshow": {
     "slide_type": "fragment"
    }
   },
   "source": [
    "#### _Motivación_\n",
    "<p float=\"center\" style=\"align: center;\">\n",
    "  <img src=\"https://github.com/ivanvlam/IBM2020/blob/5cdfe679e2823449ac4a5e472cbcfbd07248d836/Proyecto/avance/figs/fig_001.png?raw=true\" width=\"552\" />\n",
    "  <img src=\"https://github.com/ivanvlam/IBM2020/blob/5cdfe679e2823449ac4a5e472cbcfbd07248d836/Proyecto/avance/figs/fig_002.png?raw=true\" width=\"250\" />\n",
    "</p>"
   ]
  },
  {
   "attachments": {},
   "cell_type": "markdown",
   "metadata": {
    "slideshow": {
     "slide_type": "fragment"
    }
   },
   "source": [
    "#### _Hipótesis_\n",
    "Se formuló la pregunta científica: ¿Cómo varía el flujo sanguíneo en el cerebro cuando se presenta una lesión generada por un impacto en la cabeza?"
   ]
  },
  {
   "attachments": {},
   "cell_type": "markdown",
   "metadata": {
    "slideshow": {
     "slide_type": "subslide"
    }
   },
   "source": [
    "## **Estado del arte**\n",
    "\n",
    "#### _Modelación de cabeza e impacto_\n",
    "<p float=\"center\" style=\"align: center;\">\n",
    "  <img src=\"https://github.com/ivanvlam/IBM2020/blob/5cdfe679e2823449ac4a5e472cbcfbd07248d836/Proyecto/avance/figs/fig_01.jpg?raw=true\" width=\"395\" />\n",
    "  <img src=\"https://github.com/ivanvlam/IBM2020/blob/5cdfe679e2823449ac4a5e472cbcfbd07248d836/Proyecto/avance/figs/fig_02.jpg?raw=true\" width=\"400\" />\n",
    "</p>"
   ]
  },
  {
   "attachments": {},
   "cell_type": "markdown",
   "metadata": {
    "slideshow": {
     "slide_type": "fragment"
    }
   },
   "source": [
    "#### _Relación entre flujo sanguíneo cerebral y presión intracraneal_\n",
    "$$\\text{CBF} \\cong \\frac{\\text{MABP} - \\text{ICP}}{\\text{R}}$$"
   ]
  },
  {
   "attachments": {},
   "cell_type": "markdown",
   "metadata": {
    "slideshow": {
     "slide_type": "slide"
    }
   },
   "source": [
    "## **Objetivos y Tareas**"
   ]
  },
  {
   "attachments": {},
   "cell_type": "markdown",
   "metadata": {
    "slideshow": {
     "slide_type": "fragment"
    }
   },
   "source": [
    "Modelar de manera computacional el sistema circulatorio en una región del tejido cerebral, considerando parámetros descritos en la literatura.\n",
    "* <span style=\"font-size:0.75em; text-align: center;\">Estudiar en la literatura funciones de densidad de energía de deformación para el tejido cerebral.</span> <span style=\"color:orange; font-size:0.8em\"> [30%] </span>\n",
    "* <span style=\"font-size:0.75em; text-align: center;\">Estudiar en la literatura las propiedades del flujo sanguíneo en el tejido cerebral $(v_{\\text{max}}, P$).</span><span style=\"color:red; font-size:0.8em\"> [0%] </span>\n",
    "* <span style=\"font-size:0.75em; text-align: center;\">Obtener o generar una malla de FEM del tejido cerebral y sistema circulatorio.</span> <span style=\"color:green; font-size:0.8em\"> [80%] </span>"
   ]
  },
  {
   "attachments": {},
   "cell_type": "markdown",
   "metadata": {
    "slideshow": {
     "slide_type": "fragment"
    }
   },
   "source": [
    "Simular los efectos de un impacto en la cabeza, que podría derivar en una TBI, a nivel de sistema circulatorio en el cerebro.\n",
    "* <span style=\"font-size:0.75em; text-align: center;\">Modelar el flujo sanguíneo en el tejido cerebral en una cabeza que no ha recibido ningún tipo de impacto.</span> <span style=\"color:red; font-size:0.8em\"> [0%] </span>\n",
    "* <span style=\"font-size:0.75em; text-align: center;\">Estudiar la magnitud y las propiedades mecánicas de un impacto en la cabeza que podría generar una TBI.</span> <span style=\"color:green; font-size:0.8em\"> [60%] </span>\n",
    "* <span style=\"font-size:0.75em; text-align: center;\">Modelar las características del impacto en la cabeza.</span> <span style=\"color:red; font-size:0.8em\"> [0%] </span>\n",
    "* <span style=\"font-size:0.75em; text-align: center;\">Modelar el flujo sanguíneo en el tejido cerebral en una cabeza que ha recibido el impacto.</span> <span style=\"color:red; font-size:0.8em\"> [0%] </span>\n",
    "* <span style=\"font-size:0.75em; text-align: center;\">Contrastar el flujo sanguíneo a través del tejido cerebral normal y del tejido cerebral impactado.</span> <span style=\"color:red; font-size:0.8em\"> [0%] </span>"
   ]
  },
  {
   "attachments": {},
   "cell_type": "markdown",
   "metadata": {
    "slideshow": {
     "slide_type": "slide"
    }
   },
   "source": [
    "## **Resultados preliminares**"
   ]
  },
  {
   "attachments": {},
   "cell_type": "markdown",
   "metadata": {
    "slideshow": {
     "slide_type": "fragment"
    }
   },
   "source": [
    "#### _Datos relevantes_\n",
    "* Desplazamientos y aceleraciones de una colisión (Hardy et al., 2007).\n",
    "* Cerebro modelado como material hiperelástico, sin parámetros aún."
   ]
  },
  {
   "attachments": {},
   "cell_type": "markdown",
   "metadata": {
    "slideshow": {
     "slide_type": "fragment"
    }
   },
   "source": [
    "#### _Mallas obtenidas_\n",
    "<p float=\"center\" style=\"align: center;\">\n",
    "  <img src=\"https://github.com/ivanvlam/IBM2020/blob/5cdfe679e2823449ac4a5e472cbcfbd07248d836/Proyecto/avance/figs/model_1-1.png?raw=true\" width=\"190\" />\n",
    "  <img src=\"https://github.com/ivanvlam/IBM2020/blob/5cdfe679e2823449ac4a5e472cbcfbd07248d836/Proyecto/avance/figs/model_1-2.png?raw=true\" width=\"190\" />\n",
    "  <img src=\"https://github.com/ivanvlam/IBM2020/blob/5cdfe679e2823449ac4a5e472cbcfbd07248d836/Proyecto/avance/figs/model_2-1.png?raw=true\" width=\"190\" />\n",
    "  <img src=\"https://github.com/ivanvlam/IBM2020/blob/5cdfe679e2823449ac4a5e472cbcfbd07248d836/Proyecto/avance/figs/model_2-2.png?raw=true\" width=\"190\" />\n",
    "</p>"
   ]
  },
  {
   "attachments": {},
   "cell_type": "markdown",
   "metadata": {
    "slideshow": {
     "slide_type": "subslide"
    }
   },
   "source": [
    "## **Resultados preliminares**\n",
    "\n",
    "#### _Ideas de cómo seguir_\n",
    "* Optar por una malla.\n",
    "* Encontrar datos concretos para modelación hiperelástica del cerebro.\n",
    "* Estudiar parámetros de flujo sanguíneo.\n",
    "* Integrar mallas y flujo sanguíneo. "
   ]
  },
  {
   "attachments": {},
   "cell_type": "markdown",
   "metadata": {
    "slideshow": {
     "slide_type": "slide"
    }
   },
   "source": [
    "## **Desafíos por enfrentar**"
   ]
  },
  {
   "attachments": {},
   "cell_type": "markdown",
   "metadata": {
    "slideshow": {
     "slide_type": "fragment"
    }
   },
   "source": [
    "* Evaluación del desempeño de la malla escogida.\n",
    "* Modelación del flujo sanguíneo.\n",
    "* Integración de mallas y flujo sanguíneo.\n",
    "* Control la simplificación del modelo."
   ]
  }
 ],
 "metadata": {
  "language_info": {
   "name": "python"
  },
  "orig_nbformat": 4
 },
 "nbformat": 4,
 "nbformat_minor": 2
}
